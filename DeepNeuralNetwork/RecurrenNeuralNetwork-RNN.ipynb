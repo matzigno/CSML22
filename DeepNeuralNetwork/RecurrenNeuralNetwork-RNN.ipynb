{
 "cells": [
  {
   "cell_type": "code",
   "execution_count": 1,
   "metadata": {},
   "outputs": [],
   "source": [
    "import tensorflow as tf\n",
    "from tensorflow import keras\n",
    "\n",
    "import numpy as np\n",
    "\n",
    "import matplotlib.pyplot as plt\n",
    "\n",
    "%matplotlib inline"
   ]
  },
  {
   "cell_type": "code",
   "execution_count": 2,
   "metadata": {},
   "outputs": [],
   "source": [
    "def plot_series(series, y=None, y_pred=None, x_label=\"$t$\", y_label=\"$x(t)$\"):\n",
    "    plt.plot(series, \".-\")\n",
    "    if y is not None:\n",
    "        plt.plot(n_steps, y, \"bx\", markersize=10)\n",
    "    if y_pred is not None:\n",
    "        plt.plot(n_steps, y_pred, \"ro\")\n",
    "    plt.grid(True)\n",
    "    if x_label:\n",
    "        plt.xlabel(x_label, fontsize=16)\n",
    "    if y_label:\n",
    "        plt.ylabel(y_label, fontsize=16, rotation=0)\n",
    "    plt.hlines(0, 0, 100, linewidth=1)\n",
    "    plt.axis([0, n_steps + 1, -1, 1])\n",
    "    \n",
    "def plot_multiple_forecasts(X, Y, Y_pred):\n",
    "    n_steps = X.shape[1]\n",
    "    ahead = Y.shape[1]\n",
    "    plot_series(X[0, :, 0])\n",
    "    plt.plot(np.arange(n_steps, n_steps + ahead), Y[0, :, 0], \"ro-\", label=\"Actual\")\n",
    "    plt.plot(np.arange(n_steps, n_steps + ahead), Y_pred[0, :, 0], \"bx-\", label=\"Forecast\", markersize=10)\n",
    "    plt.axis([0, n_steps + ahead, -1, 1])\n",
    "    plt.legend(fontsize=14)"
   ]
  },
  {
   "cell_type": "markdown",
   "metadata": {},
   "source": [
    "# Recurrent Neural Network\n",
    "RNN sono una classe di reti neuronali applicabili a sequenza o serie temporali di lunghezza arbitraria.\n",
    "\n",
    "Le reti feedforward o sequenziali viste sinora seguono un flusso la cui direzione procede dai livelli di input fino a quelli di output in maniera lineare.  Una RNN e' simile a questo tipo di reti tranne che presenta un **collegamento all'indietro**, come mostrato nella seguente figura che riporta la piu' semplice RNN.\n",
    "\n",
    "![](rnn_simple.png)\n",
    "\n",
    "Ad ogni step $t$ , la rete riceve  in input il segnale $\\mathbf{x}_t$ e l'output $\\mathbf{y}_{t-1}$ - l'output al passo precedente. \n",
    "\n",
    "Una rappresentazione equivalente alla precedente e' data dallo _srotolamento_ - **unfolding** della rete, come mostrato in figura:\n",
    "\n",
    "![](unfolding.png)\n",
    "\n",
    "in cui viene creato un layer di unita' ricorrenti o ricorsive.\n",
    "\n",
    "In questa architettura ogni unita' riceve  due insiemi distinti di input:\n",
    "- gli input dal livello di input\n",
    "- le attivazioni dallo stesso livello generate al passo $t-1$\n",
    "\n",
    "Ad ogni passo $t$ le unita' del livello hidden ricevono in input $\\mathbf{x}_t$ e $\\mathbf{h}_{t-1}$, cioe' i valori precedenti del livello hidden.\n",
    "\n",
    "![](unfolding_2.png)\n",
    "\n",
    "Ogni collegamento riportato in figura ha una matrice dei pesi associata che non dipendono dal tempo $t$. Le matrici dei pesi sono:\n",
    "- $\\mathbf{W}_{xh}$: la matrice dei pesi tra input $\\mathbf{x}_t$ e $\\mathbf{h}$\n",
    "- $\\mathbf{W}_{hh}$: la matrice associata al collegamento ricorrente\n",
    "- $\\mathbf{W}_{hy}$: la matrice tra il livello $\\mathbf{h}$ e il livello di output $\\mathbf{y}$\n",
    "\n",
    "Il calcolo dell'attivazione e' simili alle reti sequenziali:\n",
    "\n",
    "$$\\mathbf{z}_h^t = \\mathbf{W}_{hx}\\mathbf{x}_t + \\mathbf{W}_{hh}\\mathbf{h}_{t-1} + \\mathbf{b}_h$$\n",
    "\n",
    "da cui\n",
    "\n",
    "$$\\mathbf{h}_t = \\sigma_h(\\mathbf{z}_h^t)=\\sigma(\\mathbf{W}_{hx}\\mathbf{x}_t + \\mathbf{W}_{hh}\\mathbf{h}_{t-1} + \\mathbf{b}_h) $$\n",
    "\n",
    "riscrivibile come \n",
    "\n",
    "$$\\mathbf{h}_t = \\sigma_h([\\mathbf{W}_{xh};\\mathbf{W}_{hh}][\\mathbf{x}_t^T;\\mathbf{h}_{t-1}^T]^T + \\mathbf{b}_h)$$\n",
    "\n",
    "<br>\n",
    "\n",
    "![](comp_schema.png)\n",
    "\n",
    "Dal momento che l'output di un'unita' al tempo $t$ e' funzione dell'input dei passi precedenti, possiamo dire che esiste una sorta di _memoria_. Un layer con la precedente struttura e' infatti detto $memory cell$. In generale una generica cella di memoria e' una funzione $f(\\mathbf{h}_{t-1},\\mathbf{x}_t)$.\n",
    "\n",
    "### Sequenze di input e output\n",
    "![](rnn_inout.png)"
   ]
  },
  {
   "cell_type": "markdown",
   "metadata": {},
   "source": [
    "## Training RNNs\n",
    "Per addestrare una RNN si sfrutta la rappresentazione estesa della rete nel tempo e si applica backpropagation: **backpropagation through time**\n",
    "\n",
    "![](bptt.png)"
   ]
  },
  {
   "cell_type": "markdown",
   "metadata": {},
   "source": [
    "### Time series\n",
    "Un problema a cui applicare RNN e' il forecasting di serie temporali univariate o multivariate."
   ]
  },
  {
   "cell_type": "code",
   "execution_count": 30,
   "metadata": {},
   "outputs": [],
   "source": [
    "def generate_time_series(batch_size, n_steps):\n",
    "    freq1, freq2, offsets1, offsets2 = np.random.rand(4, batch_size, 1)\n",
    "    time = np.linspace(0, 1, n_steps)\n",
    "    series = 0.5 * np.sin((time - offsets1) * (freq1 * 10 + 10))  #   wave 1\n",
    "    series += 0.2 * np.sin((time - offsets2) * (freq2 * 20 + 20)) # + wave 2\n",
    "    series += 0.1 * (np.random.rand(batch_size, n_steps) - 0.5)   # + noise\n",
    "    return series[..., np.newaxis].astype(np.float32)"
   ]
  },
  {
   "cell_type": "code",
   "execution_count": 31,
   "metadata": {},
   "outputs": [],
   "source": [
    "n_steps = 50\n",
    "series = generate_time_series(10000, n_steps + 1)"
   ]
  },
  {
   "cell_type": "code",
   "execution_count": 32,
   "metadata": {},
   "outputs": [
    {
     "data": {
      "text/plain": [
       "(10000, 51, 1)"
      ]
     },
     "execution_count": 32,
     "metadata": {},
     "output_type": "execute_result"
    }
   ],
   "source": [
    "series.shape"
   ]
  },
  {
   "cell_type": "markdown",
   "metadata": {},
   "source": [
    "Definiamo training, validation e test set:"
   ]
  },
  {
   "cell_type": "code",
   "execution_count": 33,
   "metadata": {},
   "outputs": [],
   "source": [
    "np.random.seed(42)\n",
    "X_train, y_train = series[:7000, :n_steps], series[:7000, -1]\n",
    "X_valid, y_valid = series[7000:9000, :n_steps], series[7000:9000, -1]\n",
    "X_test, y_test = series[9000:, :n_steps], series[9000:, -1]"
   ]
  },
  {
   "cell_type": "code",
   "execution_count": 34,
   "metadata": {},
   "outputs": [
    {
     "data": {
      "image/png": "[encoded data removed]",
      "text/plain": [
       "<Figure size 864x288 with 3 Axes>"
      ]
     },
     "metadata": {
      "needs_background": "light"
     },
     "output_type": "display_data"
    }
   ],
   "source": [
    "fig, axes = plt.subplots(nrows=1, ncols=3, sharey=True, figsize=(12, 4))\n",
    "for col in range(3):\n",
    "    plt.sca(axes[col])\n",
    "    plot_series(X_valid[col, :, 0], y_valid[col, 0],\n",
    "                y_label=(\"$x(t)$\" if col==0 else None))"
   ]
  },
  {
   "cell_type": "markdown",
   "metadata": {},
   "source": [
    "E' utile, come fatto per il perceptron, definire alcuni modelli baseline per confrontare le performance ottenute.\n",
    "\n",
    "Il primo modello restituisce il valore della serie al tempo $t-1$."
   ]
  },
  {
   "cell_type": "code",
   "execution_count": 35,
   "metadata": {},
   "outputs": [
    {
     "data": {
      "text/plain": [
       "0.020581549"
      ]
     },
     "execution_count": 35,
     "metadata": {},
     "output_type": "execute_result"
    }
   ],
   "source": [
    "y_pred = X_valid[:, -1]\n",
    "np.mean(keras.losses.mean_squared_error(y_valid, y_pred))"
   ]
  },
  {
   "cell_type": "code",
   "execution_count": 36,
   "metadata": {},
   "outputs": [
    {
     "data": {
      "image/png": "[encoded data removed]",
      "text/plain": [
       "<Figure size 432x288 with 1 Axes>"
      ]
     },
     "metadata": {
      "needs_background": "light"
     },
     "output_type": "display_data"
    }
   ],
   "source": [
    "plot_series(X_valid[0, :, 0], y_valid[0, 0], y_pred[0, 0])"
   ]
  },
  {
   "cell_type": "markdown",
   "metadata": {},
   "source": [
    "Il secondo modello e' una rete fully connected."
   ]
  },
  {
   "cell_type": "code",
   "execution_count": 37,
   "metadata": {},
   "outputs": [
    {
     "name": "stdout",
     "output_type": "stream",
     "text": [
      "Epoch 1/20\n",
      "219/219 [==============================] - 0s 1ms/step - loss: 0.0818 - val_loss: 0.0472\n",
      "Epoch 2/20\n",
      "219/219 [==============================] - 0s 648us/step - loss: 0.0357 - val_loss: 0.0284\n",
      "Epoch 3/20\n",
      "219/219 [==============================] - 0s 653us/step - loss: 0.0233 - val_loss: 0.0196\n",
      "Epoch 4/20\n",
      "219/219 [==============================] - 0s 667us/step - loss: 0.0167 - val_loss: 0.0147\n",
      "Epoch 5/20\n",
      "219/219 [==============================] - 0s 733us/step - loss: 0.0128 - val_loss: 0.0117\n",
      "Epoch 6/20\n",
      "219/219 [==============================] - 0s 706us/step - loss: 0.0105 - val_loss: 0.0099\n",
      "Epoch 7/20\n",
      "219/219 [==============================] - 0s 667us/step - loss: 0.0090 - val_loss: 0.0087\n",
      "Epoch 8/20\n",
      "219/219 [==============================] - 0s 649us/step - loss: 0.0080 - val_loss: 0.0079\n",
      "Epoch 9/20\n",
      "219/219 [==============================] - 0s 663us/step - loss: 0.0074 - val_loss: 0.0073\n",
      "Epoch 10/20\n",
      "219/219 [==============================] - 0s 662us/step - loss: 0.0069 - val_loss: 0.0069\n",
      "Epoch 11/20\n",
      "219/219 [==============================] - 0s 689us/step - loss: 0.0066 - val_loss: 0.0066\n",
      "Epoch 12/20\n",
      "219/219 [==============================] - 0s 699us/step - loss: 0.0063 - val_loss: 0.0063\n",
      "Epoch 13/20\n",
      "219/219 [==============================] - 0s 740us/step - loss: 0.0061 - val_loss: 0.0062\n",
      "Epoch 14/20\n",
      "219/219 [==============================] - 0s 671us/step - loss: 0.0060 - val_loss: 0.0060\n",
      "Epoch 15/20\n",
      "219/219 [==============================] - 0s 667us/step - loss: 0.0058 - val_loss: 0.0059\n",
      "Epoch 16/20\n",
      "219/219 [==============================] - 0s 689us/step - loss: 0.0057 - val_loss: 0.0058\n",
      "Epoch 17/20\n",
      "219/219 [==============================] - 0s 680us/step - loss: 0.0056 - val_loss: 0.0057\n",
      "Epoch 18/20\n",
      "219/219 [==============================] - 0s 708us/step - loss: 0.0055 - val_loss: 0.0056\n",
      "Epoch 19/20\n",
      "219/219 [==============================] - 0s 721us/step - loss: 0.0055 - val_loss: 0.0055\n",
      "Epoch 20/20\n",
      "219/219 [==============================] - 0s 724us/step - loss: 0.0054 - val_loss: 0.0054\n"
     ]
    }
   ],
   "source": [
    "tf.random.set_seed(42)\n",
    "\n",
    "model = keras.models.Sequential([\n",
    "    keras.layers.Flatten(input_shape=[50, 1]),\n",
    "    keras.layers.Dense(1)\n",
    "])\n",
    "\n",
    "model.compile(loss=\"mse\", optimizer=\"sgd\")\n",
    "history = model.fit(X_train, y_train, epochs=20,\n",
    "                    validation_data=(X_valid, y_valid))"
   ]
  },
  {
   "cell_type": "code",
   "execution_count": 38,
   "metadata": {},
   "outputs": [
    {
     "data": {
      "image/png": "[encoded data removed]",
      "text/plain": [
       "<Figure size 432x288 with 1 Axes>"
      ]
     },
     "metadata": {
      "needs_background": "light"
     },
     "output_type": "display_data"
    }
   ],
   "source": [
    "y_pred = model.predict(X_valid)\n",
    "plot_series(X_valid[0, :, 0], y_valid[0, 0], y_pred[0, 0])"
   ]
  },
  {
   "cell_type": "markdown",
   "metadata": {},
   "source": [
    "Infine definiamo un RNN con una sola unita' ricorrente e funzione di attivazione $tanh$ - default."
   ]
  },
  {
   "cell_type": "code",
   "execution_count": 39,
   "metadata": {},
   "outputs": [
    {
     "name": "stdout",
     "output_type": "stream",
     "text": [
      "Epoch 1/20\n",
      "219/219 [==============================] - 1s 7ms/step - loss: 0.0844 - val_loss: 0.0475\n",
      "Epoch 2/20\n",
      "219/219 [==============================] - 1s 6ms/step - loss: 0.0412 - val_loss: 0.0384\n",
      "Epoch 3/20\n",
      "219/219 [==============================] - 1s 6ms/step - loss: 0.0346 - val_loss: 0.0330\n",
      "Epoch 4/20\n",
      "219/219 [==============================] - 1s 6ms/step - loss: 0.0305 - val_loss: 0.0294\n",
      "Epoch 5/20\n",
      "219/219 [==============================] - 1s 6ms/step - loss: 0.0276 - val_loss: 0.0268\n",
      "Epoch 6/20\n",
      "219/219 [==============================] - 1s 6ms/step - loss: 0.0253 - val_loss: 0.0248\n",
      "Epoch 7/20\n",
      "219/219 [==============================] - 1s 6ms/step - loss: 0.0236 - val_loss: 0.0232\n",
      "Epoch 8/20\n",
      "219/219 [==============================] - 1s 6ms/step - loss: 0.0222 - val_loss: 0.0218\n",
      "Epoch 9/20\n",
      "219/219 [==============================] - 1s 6ms/step - loss: 0.0211 - val_loss: 0.0208\n",
      "Epoch 10/20\n",
      "219/219 [==============================] - 1s 6ms/step - loss: 0.0201 - val_loss: 0.0198\n",
      "Epoch 11/20\n",
      "219/219 [==============================] - 1s 6ms/step - loss: 0.0193 - val_loss: 0.0190\n",
      "Epoch 12/20\n",
      "219/219 [==============================] - 1s 6ms/step - loss: 0.0185 - val_loss: 0.0183\n",
      "Epoch 13/20\n",
      "219/219 [==============================] - 1s 6ms/step - loss: 0.0179 - val_loss: 0.0177\n",
      "Epoch 14/20\n",
      "219/219 [==============================] - 1s 6ms/step - loss: 0.0173 - val_loss: 0.0171\n",
      "Epoch 15/20\n",
      "219/219 [==============================] - 1s 6ms/step - loss: 0.0168 - val_loss: 0.0166\n",
      "Epoch 16/20\n",
      "219/219 [==============================] - 1s 5ms/step - loss: 0.0164 - val_loss: 0.0162\n",
      "Epoch 17/20\n",
      "219/219 [==============================] - 1s 5ms/step - loss: 0.0160 - val_loss: 0.0158\n",
      "Epoch 18/20\n",
      "219/219 [==============================] - 1s 5ms/step - loss: 0.0156 - val_loss: 0.0154\n",
      "Epoch 19/20\n",
      "219/219 [==============================] - 1s 5ms/step - loss: 0.0153 - val_loss: 0.0151\n",
      "Epoch 20/20\n",
      "219/219 [==============================] - 1s 5ms/step - loss: 0.0150 - val_loss: 0.0148\n"
     ]
    }
   ],
   "source": [
    "tf.random.set_seed(42)\n",
    "\n",
    "model = keras.models.Sequential([\n",
    "    keras.layers.SimpleRNN(1, input_shape=[None, 1])\n",
    "])\n",
    "\n",
    "model.compile(loss=\"mse\", optimizer='sgd')\n",
    "history = model.fit(X_train, y_train, epochs=20,\n",
    "                    validation_data=(X_valid, y_valid))"
   ]
  },
  {
   "cell_type": "code",
   "execution_count": 40,
   "metadata": {},
   "outputs": [
    {
     "data": {
      "image/png": "[encoded data removed]",
      "text/plain": [
       "<Figure size 432x288 with 1 Axes>"
      ]
     },
     "metadata": {
      "needs_background": "light"
     },
     "output_type": "display_data"
    }
   ],
   "source": [
    "y_pred = model.predict(X_valid)\n",
    "plot_series(X_valid[0, :, 0], y_valid[0, 0], y_pred[0, 0])"
   ]
  },
  {
   "cell_type": "markdown",
   "metadata": {},
   "source": [
    "Infine inseriamo piu' hidden layer costituiti da piu' unita' ricorrenti"
   ]
  },
  {
   "cell_type": "code",
   "execution_count": 41,
   "metadata": {},
   "outputs": [
    {
     "name": "stdout",
     "output_type": "stream",
     "text": [
      "Epoch 1/20\n",
      "219/219 [==============================] - 4s 20ms/step - loss: 0.0445 - val_loss: 0.0184\n",
      "Epoch 2/20\n",
      "219/219 [==============================] - 4s 18ms/step - loss: 0.0118 - val_loss: 0.0095\n",
      "Epoch 3/20\n",
      "219/219 [==============================] - 4s 18ms/step - loss: 0.0086 - val_loss: 0.0097\n",
      "Epoch 4/20\n",
      "219/219 [==============================] - 4s 18ms/step - loss: 0.0073 - val_loss: 0.0062\n",
      "Epoch 5/20\n",
      "219/219 [==============================] - 4s 18ms/step - loss: 0.0063 - val_loss: 0.0058\n",
      "Epoch 6/20\n",
      "219/219 [==============================] - 4s 18ms/step - loss: 0.0058 - val_loss: 0.0052\n",
      "Epoch 7/20\n",
      "219/219 [==============================] - 4s 18ms/step - loss: 0.0054 - val_loss: 0.0050\n",
      "Epoch 8/20\n",
      "219/219 [==============================] - 4s 18ms/step - loss: 0.0052 - val_loss: 0.0054\n",
      "Epoch 9/20\n",
      "219/219 [==============================] - 4s 18ms/step - loss: 0.0049 - val_loss: 0.0055\n",
      "Epoch 10/20\n",
      "219/219 [==============================] - 4s 18ms/step - loss: 0.0047 - val_loss: 0.0057\n",
      "Epoch 11/20\n",
      "219/219 [==============================] - 4s 18ms/step - loss: 0.0046 - val_loss: 0.0043\n",
      "Epoch 12/20\n",
      "219/219 [==============================] - 4s 18ms/step - loss: 0.0045 - val_loss: 0.0042\n",
      "Epoch 13/20\n",
      "219/219 [==============================] - 4s 17ms/step - loss: 0.0044 - val_loss: 0.0042\n",
      "Epoch 14/20\n",
      "219/219 [==============================] - 4s 17ms/step - loss: 0.0043 - val_loss: 0.0041\n",
      "Epoch 15/20\n",
      "219/219 [==============================] - 4s 17ms/step - loss: 0.0042 - val_loss: 0.0040\n",
      "Epoch 16/20\n",
      "219/219 [==============================] - 4s 17ms/step - loss: 0.0041 - val_loss: 0.0052\n",
      "Epoch 17/20\n",
      "219/219 [==============================] - 4s 17ms/step - loss: 0.0041 - val_loss: 0.0039\n",
      "Epoch 18/20\n",
      "219/219 [==============================] - 4s 17ms/step - loss: 0.0040 - val_loss: 0.0039\n",
      "Epoch 19/20\n",
      "219/219 [==============================] - 4s 18ms/step - loss: 0.0040 - val_loss: 0.0043\n",
      "Epoch 20/20\n",
      "219/219 [==============================] - 4s 17ms/step - loss: 0.0039 - val_loss: 0.0038\n"
     ]
    }
   ],
   "source": [
    "model = keras.models.Sequential([\n",
    "    keras.layers.SimpleRNN(20, return_sequences=True, input_shape=[None, 1]),\n",
    "    keras.layers.SimpleRNN(20, return_sequences=True),\n",
    "    keras.layers.SimpleRNN(1)\n",
    "])\n",
    "\n",
    "model.compile(loss=\"mse\", optimizer=\"sgd\")\n",
    "history = model.fit(X_train, y_train, epochs=20,\n",
    "                    validation_data=(X_valid, y_valid))"
   ]
  },
  {
   "cell_type": "code",
   "execution_count": 42,
   "metadata": {},
   "outputs": [
    {
     "data": {
      "image/png": "[encoded data removed]",
      "text/plain": [
       "<Figure size 432x288 with 1 Axes>"
      ]
     },
     "metadata": {
      "needs_background": "light"
     },
     "output_type": "display_data"
    }
   ],
   "source": [
    "y_pred = model.predict(X_valid)\n",
    "plot_series(X_valid[0, :, 0], y_valid[0, 0], y_pred[0, 0])"
   ]
  },
  {
   "cell_type": "markdown",
   "metadata": {},
   "source": [
    "Dal momento che per l'ultimo layer non ci interessa l'ouput $h_{out}$, possiamo utilizzare un livello denso con una singola unita' di output."
   ]
  },
  {
   "cell_type": "code",
   "execution_count": 43,
   "metadata": {},
   "outputs": [
    {
     "name": "stdout",
     "output_type": "stream",
     "text": [
      "Epoch 1/20\n",
      "219/219 [==============================] - 3s 15ms/step - loss: 0.0368 - val_loss: 0.0158\n",
      "Epoch 2/20\n",
      "219/219 [==============================] - 3s 13ms/step - loss: 0.0118 - val_loss: 0.0100\n",
      "Epoch 3/20\n",
      "219/219 [==============================] - 3s 13ms/step - loss: 0.0081 - val_loss: 0.0076\n",
      "Epoch 4/20\n",
      "219/219 [==============================] - 3s 13ms/step - loss: 0.0065 - val_loss: 0.0065\n",
      "Epoch 5/20\n",
      "219/219 [==============================] - 3s 13ms/step - loss: 0.0055 - val_loss: 0.0055\n",
      "Epoch 6/20\n",
      "219/219 [==============================] - 3s 13ms/step - loss: 0.0049 - val_loss: 0.0049\n",
      "Epoch 7/20\n",
      "219/219 [==============================] - 3s 13ms/step - loss: 0.0045 - val_loss: 0.0047\n",
      "Epoch 8/20\n",
      "219/219 [==============================] - 3s 13ms/step - loss: 0.0043 - val_loss: 0.0044\n",
      "Epoch 9/20\n",
      "219/219 [==============================] - 3s 13ms/step - loss: 0.0041 - val_loss: 0.0041\n",
      "Epoch 10/20\n",
      "219/219 [==============================] - 3s 13ms/step - loss: 0.0039 - val_loss: 0.0040\n",
      "Epoch 11/20\n",
      "219/219 [==============================] - 3s 13ms/step - loss: 0.0038 - val_loss: 0.0039\n",
      "Epoch 12/20\n",
      "219/219 [==============================] - 3s 13ms/step - loss: 0.0036 - val_loss: 0.0038\n",
      "Epoch 13/20\n",
      "219/219 [==============================] - 3s 13ms/step - loss: 0.0035 - val_loss: 0.0036\n",
      "Epoch 14/20\n",
      "219/219 [==============================] - 3s 13ms/step - loss: 0.0034 - val_loss: 0.0034\n",
      "Epoch 15/20\n",
      "219/219 [==============================] - 3s 13ms/step - loss: 0.0034 - val_loss: 0.0034\n",
      "Epoch 16/20\n",
      "219/219 [==============================] - 3s 13ms/step - loss: 0.0033 - val_loss: 0.0033\n",
      "Epoch 17/20\n",
      "219/219 [==============================] - 3s 13ms/step - loss: 0.0032 - val_loss: 0.0033\n",
      "Epoch 18/20\n",
      "219/219 [==============================] - 3s 13ms/step - loss: 0.0032 - val_loss: 0.0032\n",
      "Epoch 19/20\n",
      "219/219 [==============================] - 3s 13ms/step - loss: 0.0031 - val_loss: 0.0033\n",
      "Epoch 20/20\n",
      "219/219 [==============================] - 3s 13ms/step - loss: 0.0031 - val_loss: 0.0031\n"
     ]
    }
   ],
   "source": [
    "model = keras.models.Sequential([\n",
    "    keras.layers.SimpleRNN(20, return_sequences=True, input_shape=[None, 1]),\n",
    "    keras.layers.SimpleRNN(20),\n",
    "    keras.layers.Dense(1)\n",
    "])\n",
    "\n",
    "model.compile(loss=\"mse\", optimizer=\"sgd\")\n",
    "history = model.fit(X_train, y_train, epochs=20,\n",
    "                    validation_data=(X_valid, y_valid))"
   ]
  },
  {
   "cell_type": "code",
   "execution_count": 44,
   "metadata": {},
   "outputs": [
    {
     "data": {
      "image/png": "[encoded data removed]",
      "text/plain": [
       "<Figure size 432x288 with 1 Axes>"
      ]
     },
     "metadata": {
      "needs_background": "light"
     },
     "output_type": "display_data"
    }
   ],
   "source": [
    "y_pred = model.predict(X_valid)\n",
    "plot_series(X_valid[0, :, 0], y_valid[0, 0], y_pred[0, 0])"
   ]
  },
  {
   "cell_type": "markdown",
   "metadata": {},
   "source": [
    "Per predirre i prossimi $k$ valori futuri come primo approccio posso utilizzare le predizioni eseguite fino al passo $t+1$ come input del mio modello. In sostanza, predico sulle predizioni. \n",
    "\n",
    "Ho un problema di accumulazione dell'errore di predizione."
   ]
  },
  {
   "cell_type": "code",
   "execution_count": 45,
   "metadata": {},
   "outputs": [],
   "source": [
    "n_steps = 50\n",
    "series = generate_time_series(10000, n_steps + 10)\n",
    "X_train, Y_train = series[:7000, :n_steps], series[:7000, -10:, 0]\n",
    "X_valid, Y_valid = series[7000:9000, :n_steps], series[7000:9000, -10:, 0]\n",
    "X_test, Y_test = series[9000:, :n_steps], series[9000:, -10:, 0]"
   ]
  },
  {
   "cell_type": "code",
   "execution_count": 46,
   "metadata": {},
   "outputs": [],
   "source": [
    "X = X_valid\n",
    "for step_ahead in range(10):\n",
    "    y_pred_one = model.predict(X)[:, np.newaxis, :]\n",
    "    X = np.concatenate([X, y_pred_one], axis=1)\n",
    "\n",
    "Y_pred = X[:, n_steps:, 0]"
   ]
  },
  {
   "cell_type": "code",
   "execution_count": 47,
   "metadata": {},
   "outputs": [
    {
     "data": {
      "text/plain": [
       "0.022914642"
      ]
     },
     "execution_count": 47,
     "metadata": {},
     "output_type": "execute_result"
    }
   ],
   "source": [
    "np.mean(keras.metrics.mean_squared_error(Y_valid, Y_pred))"
   ]
  },
  {
   "cell_type": "code",
   "execution_count": null,
   "metadata": {},
   "outputs": [],
   "source": [
    "Y_naive_pred = Y_valid[:, -1:]\n",
    "np.mean(keras.metrics.mean_squared_error(Y_valid, Y_naive_pred))"
   ]
  },
  {
   "cell_type": "code",
   "execution_count": 48,
   "metadata": {},
   "outputs": [
    {
     "name": "stdout",
     "output_type": "stream",
     "text": [
      "Epoch 1/20\n",
      "219/219 [==============================] - 0s 1ms/step - loss: 0.2777 - val_loss: 0.1909\n",
      "Epoch 2/20\n",
      "219/219 [==============================] - 0s 694us/step - loss: 0.1543 - val_loss: 0.1267\n",
      "Epoch 3/20\n",
      "219/219 [==============================] - 0s 662us/step - loss: 0.1121 - val_loss: 0.1007\n",
      "Epoch 4/20\n",
      "219/219 [==============================] - 0s 676us/step - loss: 0.0932 - val_loss: 0.0875\n",
      "Epoch 5/20\n",
      "219/219 [==============================] - 0s 676us/step - loss: 0.0827 - val_loss: 0.0794\n",
      "Epoch 6/20\n",
      "219/219 [==============================] - 0s 677us/step - loss: 0.0759 - val_loss: 0.0736\n",
      "Epoch 7/20\n",
      "219/219 [==============================] - 0s 679us/step - loss: 0.0708 - val_loss: 0.0691\n",
      "Epoch 8/20\n",
      "219/219 [==============================] - 0s 676us/step - loss: 0.0668 - val_loss: 0.0655\n",
      "Epoch 9/20\n",
      "219/219 [==============================] - 0s 721us/step - loss: 0.0634 - val_loss: 0.0623\n",
      "Epoch 10/20\n",
      "219/219 [==============================] - 0s 717us/step - loss: 0.0605 - val_loss: 0.0595\n",
      "Epoch 11/20\n",
      "219/219 [==============================] - 0s 685us/step - loss: 0.0580 - val_loss: 0.0571\n",
      "Epoch 12/20\n",
      "219/219 [==============================] - 0s 694us/step - loss: 0.0557 - val_loss: 0.0550\n",
      "Epoch 13/20\n",
      "219/219 [==============================] - 0s 671us/step - loss: 0.0537 - val_loss: 0.0530\n",
      "Epoch 14/20\n",
      "219/219 [==============================] - 0s 662us/step - loss: 0.0519 - val_loss: 0.0513\n",
      "Epoch 15/20\n",
      "219/219 [==============================] - 0s 717us/step - loss: 0.0503 - val_loss: 0.0498\n",
      "Epoch 16/20\n",
      "219/219 [==============================] - 0s 671us/step - loss: 0.0489 - val_loss: 0.0484\n",
      "Epoch 17/20\n",
      "219/219 [==============================] - 0s 694us/step - loss: 0.0476 - val_loss: 0.0471\n",
      "Epoch 18/20\n",
      "219/219 [==============================] - 0s 726us/step - loss: 0.0464 - val_loss: 0.0460\n",
      "Epoch 19/20\n",
      "219/219 [==============================] - 0s 708us/step - loss: 0.0453 - val_loss: 0.0449\n",
      "Epoch 20/20\n",
      "219/219 [==============================] - ETA: 0s - loss: 0.044 - 0s 671us/step - loss: 0.0443 - val_loss: 0.0440\n"
     ]
    }
   ],
   "source": [
    "model = keras.models.Sequential([\n",
    "    keras.layers.Flatten(input_shape=[50, 1]),\n",
    "    keras.layers.Dense(10)\n",
    "])\n",
    "\n",
    "model.compile(loss=\"mse\", optimizer=\"sgd\")\n",
    "history = model.fit(X_train, Y_train, epochs=20,\n",
    "                    validation_data=(X_valid, Y_valid))"
   ]
  },
  {
   "cell_type": "markdown",
   "metadata": {},
   "source": [
    "Definiamo un RNN che restituisce un vettore di 10 elementi"
   ]
  },
  {
   "cell_type": "code",
   "execution_count": 49,
   "metadata": {},
   "outputs": [
    {
     "name": "stdout",
     "output_type": "stream",
     "text": [
      "Epoch 1/20\n",
      "219/219 [==============================] - 3s 15ms/step - loss: 0.1224 - val_loss: 0.0853\n",
      "Epoch 2/20\n",
      "219/219 [==============================] - 3s 13ms/step - loss: 0.0717 - val_loss: 0.0596\n",
      "Epoch 3/20\n",
      "219/219 [==============================] - 3s 13ms/step - loss: 0.0558 - val_loss: 0.0510\n",
      "Epoch 4/20\n",
      "219/219 [==============================] - 3s 13ms/step - loss: 0.0493 - val_loss: 0.0452\n",
      "Epoch 5/20\n",
      "219/219 [==============================] - 3s 13ms/step - loss: 0.0459 - val_loss: 0.0424\n",
      "Epoch 6/20\n",
      "219/219 [==============================] - 3s 13ms/step - loss: 0.0433 - val_loss: 0.0566\n",
      "Epoch 7/20\n",
      "219/219 [==============================] - 3s 13ms/step - loss: 0.0411 - val_loss: 0.0385\n",
      "Epoch 8/20\n",
      "219/219 [==============================] - 3s 13ms/step - loss: 0.0387 - val_loss: 0.0366\n",
      "Epoch 9/20\n",
      "219/219 [==============================] - 3s 13ms/step - loss: 0.0368 - val_loss: 0.0369\n",
      "Epoch 10/20\n",
      "219/219 [==============================] - 3s 13ms/step - loss: 0.0349 - val_loss: 0.0319\n",
      "Epoch 11/20\n",
      "219/219 [==============================] - 3s 13ms/step - loss: 0.0330 - val_loss: 0.0306\n",
      "Epoch 12/20\n",
      "219/219 [==============================] - 3s 13ms/step - loss: 0.0318 - val_loss: 0.0292\n",
      "Epoch 13/20\n",
      "219/219 [==============================] - 3s 13ms/step - loss: 0.0300 - val_loss: 0.0276\n",
      "Epoch 14/20\n",
      "219/219 [==============================] - 3s 13ms/step - loss: 0.0285 - val_loss: 0.0260\n",
      "Epoch 15/20\n",
      "219/219 [==============================] - 3s 13ms/step - loss: 0.0275 - val_loss: 0.0253\n",
      "Epoch 16/20\n",
      "219/219 [==============================] - 3s 13ms/step - loss: 0.0263 - val_loss: 0.0272\n",
      "Epoch 17/20\n",
      "219/219 [==============================] - 3s 13ms/step - loss: 0.0252 - val_loss: 0.0231\n",
      "Epoch 18/20\n",
      "219/219 [==============================] - 3s 13ms/step - loss: 0.0243 - val_loss: 0.0257\n",
      "Epoch 19/20\n",
      "219/219 [==============================] - 3s 13ms/step - loss: 0.0235 - val_loss: 0.0220\n",
      "Epoch 20/20\n",
      "219/219 [==============================] - 3s 13ms/step - loss: 0.0230 - val_loss: 0.0223\n"
     ]
    }
   ],
   "source": [
    "model = keras.models.Sequential([\n",
    "    keras.layers.SimpleRNN(20, return_sequences=True, input_shape=[None, 1]),\n",
    "    keras.layers.SimpleRNN(20),\n",
    "    keras.layers.Dense(10)\n",
    "])\n",
    "\n",
    "model.compile(loss=\"mse\", optimizer=\"sgd\")\n",
    "history = model.fit(X_train, Y_train, epochs=20,\n",
    "                    validation_data=(X_valid, Y_valid))"
   ]
  },
  {
   "cell_type": "code",
   "execution_count": null,
   "metadata": {},
   "outputs": [],
   "source": [
    "X_new, Y_new = series[:, :50, :], series[:, -10:, :]\n",
    "Y_pred = model.predict(X_new)[..., np.newaxis]"
   ]
  },
  {
   "cell_type": "code",
   "execution_count": null,
   "metadata": {},
   "outputs": [],
   "source": [
    "plot_multiple_forecasts(X_new, Y_new, Y_pred)"
   ]
  },
  {
   "cell_type": "markdown",
   "metadata": {},
   "source": [
    "Possiamo addestrare il modello in modo che predica i prossimi $k$ valori ad ogni time step, anziche' all'ultimo step $t=50$. Sfrutto gli aggiornamenti del gradiente provenienti da tutti gli output $y_{t}$. Il modello risultante e' nella categoria many-to-many.\n",
    "\n",
    "Dobbiamo modificare il vettore delle etichette = sequenza di vettori"
   ]
  },
  {
   "cell_type": "code",
   "execution_count": 53,
   "metadata": {},
   "outputs": [],
   "source": [
    "n_steps = 50\n",
    "series = generate_time_series(10000, n_steps + 10)\n",
    "X_train = series[:7000, :n_steps]\n",
    "X_valid = series[7000:9000, :n_steps]\n",
    "X_test = series[9000:, :n_steps]\n",
    "\n",
    "Y = np.empty((10000, n_steps, 10))\n",
    "for step_ahead in range(1, 10 + 1):\n",
    "    Y[..., step_ahead - 1] = series[..., step_ahead:step_ahead + n_steps, 0]\n",
    "Y_train = Y[:7000]\n",
    "Y_valid = Y[7000:9000]\n",
    "Y_test = Y[9000:]"
   ]
  },
  {
   "cell_type": "code",
   "execution_count": 28,
   "metadata": {},
   "outputs": [
    {
     "data": {
      "text/plain": [
       "(50, 10)"
      ]
     },
     "execution_count": 28,
     "metadata": {},
     "output_type": "execute_result"
    }
   ],
   "source": [
    "Y[1].shape"
   ]
  },
  {
   "cell_type": "markdown",
   "metadata": {},
   "source": [
    "Ogni layer deve restituire sempre una sequenza => **return_sequence=True**. Inoltre, possiamo utilizzare il layer **TimeDistributed** per applicare il layer ad ongi time step della sequenza di input."
   ]
  },
  {
   "cell_type": "code",
   "execution_count": 50,
   "metadata": {},
   "outputs": [],
   "source": [
    "model = keras.models.Sequential([\n",
    "    keras.layers.SimpleRNN(20, return_sequences=True, input_shape=[None, 1]),\n",
    "    keras.layers.SimpleRNN(20, return_sequences=True),\n",
    "    keras.layers.TimeDistributed(keras.layers.Dense(10))\n",
    "])"
   ]
  },
  {
   "cell_type": "markdown",
   "metadata": {},
   "source": [
    "## Training RNNs\n",
    "Per addestrare una RNN si sfrutta la rappresentazione estesa della rete nel tempo e si applica backpropagation: **backpropagation through time**\n",
    "\n",
    "![](bptt.png)"
   ]
  },
  {
   "cell_type": "markdown",
   "metadata": {},
   "source": [
    "La loss function si calcola sull'ouput dell'ultimo time step."
   ]
  },
  {
   "cell_type": "code",
   "execution_count": 51,
   "metadata": {},
   "outputs": [],
   "source": [
    "@tf.autograph.experimental.do_not_convert\n",
    "def last_time_step_mse(Y_true, Y_pred):\n",
    "    return keras.metrics.mean_squared_error(Y_true[:, -1], Y_pred[:, -1])"
   ]
  },
  {
   "cell_type": "code",
   "execution_count": 54,
   "metadata": {},
   "outputs": [
    {
     "name": "stdout",
     "output_type": "stream",
     "text": [
      "Epoch 1/20\n",
      "219/219 [==============================] - 3s 15ms/step - loss: 0.1393 - last_time_step_mse: 0.1370 - val_loss: 0.0963 - val_last_time_step_mse: 0.0903\n",
      "Epoch 2/20\n",
      "219/219 [==============================] - 3s 13ms/step - loss: 0.0850 - last_time_step_mse: 0.0780 - val_loss: 0.0762 - val_last_time_step_mse: 0.0671\n",
      "Epoch 3/20\n",
      "219/219 [==============================] - 3s 13ms/step - loss: 0.0717 - last_time_step_mse: 0.0625 - val_loss: 0.0677 - val_last_time_step_mse: 0.0571\n",
      "Epoch 4/20\n",
      "219/219 [==============================] - 3s 13ms/step - loss: 0.0656 - last_time_step_mse: 0.0555 - val_loss: 0.0635 - val_last_time_step_mse: 0.0524\n",
      "Epoch 5/20\n",
      "219/219 [==============================] - 3s 13ms/step - loss: 0.0622 - last_time_step_mse: 0.0517 - val_loss: 0.0608 - val_last_time_step_mse: 0.0494\n",
      "Epoch 6/20\n",
      "219/219 [==============================] - 3s 13ms/step - loss: 0.0599 - last_time_step_mse: 0.0492 - val_loss: 0.0588 - val_last_time_step_mse: 0.0473\n",
      "Epoch 7/20\n",
      "219/219 [==============================] - 3s 13ms/step - loss: 0.0582 - last_time_step_mse: 0.0474 - val_loss: 0.0573 - val_last_time_step_mse: 0.0459\n",
      "Epoch 8/20\n",
      "219/219 [==============================] - 3s 13ms/step - loss: 0.0569 - last_time_step_mse: 0.0460 - val_loss: 0.0561 - val_last_time_step_mse: 0.0444\n",
      "Epoch 9/20\n",
      "219/219 [==============================] - 3s 13ms/step - loss: 0.0557 - last_time_step_mse: 0.0448 - val_loss: 0.0550 - val_last_time_step_mse: 0.0433\n",
      "Epoch 10/20\n",
      "219/219 [==============================] - 3s 13ms/step - loss: 0.0548 - last_time_step_mse: 0.0437 - val_loss: 0.0542 - val_last_time_step_mse: 0.0424\n",
      "Epoch 11/20\n",
      "219/219 [==============================] - 3s 13ms/step - loss: 0.0539 - last_time_step_mse: 0.0428 - val_loss: 0.0533 - val_last_time_step_mse: 0.0416\n",
      "Epoch 12/20\n",
      "219/219 [==============================] - 3s 13ms/step - loss: 0.0531 - last_time_step_mse: 0.0420 - val_loss: 0.0526 - val_last_time_step_mse: 0.0406\n",
      "Epoch 13/20\n",
      "219/219 [==============================] - 3s 13ms/step - loss: 0.0524 - last_time_step_mse: 0.0412 - val_loss: 0.0519 - val_last_time_step_mse: 0.0402\n",
      "Epoch 14/20\n",
      "219/219 [==============================] - 3s 13ms/step - loss: 0.0518 - last_time_step_mse: 0.0405 - val_loss: 0.0513 - val_last_time_step_mse: 0.0394\n",
      "Epoch 15/20\n",
      "219/219 [==============================] - 3s 13ms/step - loss: 0.0512 - last_time_step_mse: 0.0398 - val_loss: 0.0507 - val_last_time_step_mse: 0.0386\n",
      "Epoch 16/20\n",
      "219/219 [==============================] - 3s 13ms/step - loss: 0.0506 - last_time_step_mse: 0.0391 - val_loss: 0.0501 - val_last_time_step_mse: 0.0381\n",
      "Epoch 17/20\n",
      "219/219 [==============================] - 3s 13ms/step - loss: 0.0501 - last_time_step_mse: 0.0385 - val_loss: 0.0497 - val_last_time_step_mse: 0.0374\n",
      "Epoch 18/20\n",
      "219/219 [==============================] - 3s 13ms/step - loss: 0.0496 - last_time_step_mse: 0.0379 - val_loss: 0.0491 - val_last_time_step_mse: 0.0368\n",
      "Epoch 19/20\n",
      "219/219 [==============================] - 3s 13ms/step - loss: 0.0491 - last_time_step_mse: 0.0373 - val_loss: 0.0486 - val_last_time_step_mse: 0.0363\n",
      "Epoch 20/20\n",
      "219/219 [==============================] - 3s 13ms/step - loss: 0.0486 - last_time_step_mse: 0.0368 - val_loss: 0.0482 - val_last_time_step_mse: 0.0357\n"
     ]
    }
   ],
   "source": [
    "model.compile(loss=\"mse\", optimizer='sgd', metrics=[last_time_step_mse])\n",
    "history = model.fit(X_train, Y_train, epochs=20,\n",
    "                    validation_data=(X_valid, Y_valid))"
   ]
  },
  {
   "cell_type": "code",
   "execution_count": 55,
   "metadata": {},
   "outputs": [
    {
     "data": {
      "image/png": "[encoded data removed]",
      "text/plain": [
       "<Figure size 432x288 with 1 Axes>"
      ]
     },
     "metadata": {
      "needs_background": "light"
     },
     "output_type": "display_data"
    }
   ],
   "source": [
    "np.random.seed(43)\n",
    "\n",
    "series = generate_time_series(1, 50 + 10)\n",
    "X_new, Y_new = series[:, :50, :], series[:, 50:, :]\n",
    "Y_pred = model.predict(X_new)[:, -1][..., np.newaxis]\n",
    "plot_multiple_forecasts(X_new, Y_new, Y_pred)"
   ]
  },
  {
   "cell_type": "markdown",
   "metadata": {},
   "source": [
    "## Long memory cells\n",
    "Usando la cella di memoria base lo stato dei primi elementi della sequenza puo' non influire sulla predizione al tempo $t$. Per alleviare questo fenomeno sono state proposte diversi cell con memoria a lungo termine - long-term memory.\n",
    "\n",
    "### Long short-term memory - LSTM\n",
    "\n",
    "![](lstm_cell.png)\n",
    "\n",
    "dove informalmente $\\mathbf{h}_t$ rappresenta la memoria a breve termine, mentre $\\mathbf{c}_t$ rappresenta la memoria a lungo termine.\n",
    "\n",
    "![](lstm_equation.png)"
   ]
  },
  {
   "cell_type": "markdown",
   "metadata": {},
   "source": [
    "### Gated Recurrent Unit - GRU\n",
    "\n",
    "![](gru.png)\n",
    "\n",
    "I vettori $h$ e $c$ vengono uniti. C'e' un solo gate controller $z$ che controlla forget e input gate. C'e' un nuovo gae controller che agisce sull'input del main gate $g$ e sceglie quale parte dello stato precedente utilizzare. \n",
    "\n",
    "![](gru_equation.png)"
   ]
  },
  {
   "cell_type": "markdown",
   "metadata": {},
   "source": [
    "In Keras vengono rsi disponibili i due layers: **LSTM** e **GRU**"
   ]
  },
  {
   "cell_type": "code",
   "execution_count": 56,
   "metadata": {},
   "outputs": [
    {
     "name": "stdout",
     "output_type": "stream",
     "text": [
      "Epoch 1/20\n",
      "219/219 [==============================] - 8s 36ms/step - loss: 0.1474 - last_time_step_mse: 0.1461 - val_loss: 0.1457 - val_last_time_step_mse: 0.1439\n",
      "Epoch 2/20\n",
      "219/219 [==============================] - 7s 30ms/step - loss: 0.1444 - last_time_step_mse: 0.1429 - val_loss: 0.1429 - val_last_time_step_mse: 0.1410\n",
      "Epoch 3/20\n",
      "219/219 [==============================] - 7s 30ms/step - loss: 0.1417 - last_time_step_mse: 0.1400 - val_loss: 0.1402 - val_last_time_step_mse: 0.1381\n",
      "Epoch 4/20\n",
      "219/219 [==============================] - 7s 30ms/step - loss: 0.1390 - last_time_step_mse: 0.1372 - val_loss: 0.1375 - val_last_time_step_mse: 0.1352\n",
      "Epoch 5/20\n",
      "219/219 [==============================] - 6s 29ms/step - loss: 0.1362 - last_time_step_mse: 0.1342 - val_loss: 0.1346 - val_last_time_step_mse: 0.1321\n",
      "Epoch 6/20\n",
      "219/219 [==============================] - 6s 26ms/step - loss: 0.1332 - last_time_step_mse: 0.1309 - val_loss: 0.1314 - val_last_time_step_mse: 0.1287\n",
      "Epoch 7/20\n",
      "219/219 [==============================] - 5s 25ms/step - loss: 0.1299 - last_time_step_mse: 0.1274 - val_loss: 0.1279 - val_last_time_step_mse: 0.1249\n",
      "Epoch 8/20\n",
      "219/219 [==============================] - 5s 25ms/step - loss: 0.1262 - last_time_step_mse: 0.1233 - val_loss: 0.1241 - val_last_time_step_mse: 0.1206\n",
      "Epoch 9/20\n",
      "219/219 [==============================] - 5s 24ms/step - loss: 0.1221 - last_time_step_mse: 0.1189 - val_loss: 0.1198 - val_last_time_step_mse: 0.1158\n",
      "Epoch 10/20\n",
      "219/219 [==============================] - 5s 24ms/step - loss: 0.1177 - last_time_step_mse: 0.1139 - val_loss: 0.1152 - val_last_time_step_mse: 0.1106\n",
      "Epoch 11/20\n",
      "219/219 [==============================] - 5s 25ms/step - loss: 0.1131 - last_time_step_mse: 0.1087 - val_loss: 0.1105 - val_last_time_step_mse: 0.1051\n",
      "Epoch 12/20\n",
      "219/219 [==============================] - 5s 25ms/step - loss: 0.1084 - last_time_step_mse: 0.1032 - val_loss: 0.1058 - val_last_time_step_mse: 0.0995\n",
      "Epoch 13/20\n",
      "219/219 [==============================] - 5s 25ms/step - loss: 0.1038 - last_time_step_mse: 0.0977 - val_loss: 0.1014 - val_last_time_step_mse: 0.0941\n",
      "Epoch 14/20\n",
      "219/219 [==============================] - 6s 26ms/step - loss: 0.0995 - last_time_step_mse: 0.0925 - val_loss: 0.0972 - val_last_time_step_mse: 0.0889\n",
      "Epoch 15/20\n",
      "219/219 [==============================] - 6s 25ms/step - loss: 0.0955 - last_time_step_mse: 0.0876 - val_loss: 0.0935 - val_last_time_step_mse: 0.0841\n",
      "Epoch 16/20\n",
      "219/219 [==============================] - 6s 25ms/step - loss: 0.0920 - last_time_step_mse: 0.0831 - val_loss: 0.0902 - val_last_time_step_mse: 0.0799\n",
      "Epoch 17/20\n",
      "219/219 [==============================] - 6s 26ms/step - loss: 0.0889 - last_time_step_mse: 0.0792 - val_loss: 0.0873 - val_last_time_step_mse: 0.0761\n",
      "Epoch 18/20\n",
      "219/219 [==============================] - 5s 25ms/step - loss: 0.0862 - last_time_step_mse: 0.0757 - val_loss: 0.0847 - val_last_time_step_mse: 0.0727\n",
      "Epoch 19/20\n",
      "219/219 [==============================] - 5s 24ms/step - loss: 0.0838 - last_time_step_mse: 0.0726 - val_loss: 0.0825 - val_last_time_step_mse: 0.0699\n",
      "Epoch 20/20\n",
      "219/219 [==============================] - 5s 24ms/step - loss: 0.0818 - last_time_step_mse: 0.0700 - val_loss: 0.0807 - val_last_time_step_mse: 0.0675\n"
     ]
    }
   ],
   "source": [
    "model = keras.models.Sequential([\n",
    "    keras.layers.LSTM(20, return_sequences=True, input_shape=[None, 1]),\n",
    "    keras.layers.LSTM(20, return_sequences=True),\n",
    "    keras.layers.TimeDistributed(keras.layers.Dense(10))\n",
    "])\n",
    "\n",
    "model.compile(loss=\"mse\", optimizer=\"sgd\", metrics=[last_time_step_mse])\n",
    "history = model.fit(X_train, Y_train, epochs=20,\n",
    "                    validation_data=(X_valid, Y_valid))"
   ]
  },
  {
   "cell_type": "code",
   "execution_count": null,
   "metadata": {},
   "outputs": [],
   "source": [
    "np.random.seed(43)\n",
    "\n",
    "series = generate_time_series(1, 50 + 10)\n",
    "X_new, Y_new = series[:, :50, :], series[:, 50:, :]\n",
    "Y_pred = model.predict(X_new)[:, -1][..., np.newaxis]\n",
    "plot_multiple_forecasts(X_new, Y_new, Y_pred)"
   ]
  },
  {
   "cell_type": "code",
   "execution_count": null,
   "metadata": {},
   "outputs": [],
   "source": [
    "np.random.seed(42)\n",
    "tf.random.set_seed(42)\n",
    "\n",
    "model = keras.models.Sequential([\n",
    "    keras.layers.GRU(20, return_sequences=True, input_shape=[None, 1]),\n",
    "    keras.layers.GRU(20, return_sequences=True),\n",
    "    keras.layers.TimeDistributed(keras.layers.Dense(10))\n",
    "])\n",
    "\n",
    "model.compile(loss=\"mse\", optimizer=\"adam\", metrics=[last_time_step_mse])\n",
    "history = model.fit(X_train, Y_train, epochs=20,\n",
    "                    validation_data=(X_valid, Y_valid))"
   ]
  },
  {
   "cell_type": "code",
   "execution_count": null,
   "metadata": {},
   "outputs": [],
   "source": [
    "np.random.seed(43)\n",
    "\n",
    "series = generate_time_series(1, 50 + 10)\n",
    "X_new, Y_new = series[:, :50, :], series[:, 50:, :]\n",
    "Y_pred = model.predict(X_new)[:, -1][..., np.newaxis]\n",
    "plot_multiple_forecasts(X_new, Y_new, Y_pred)\n"
   ]
  }
 ],
 "metadata": {
  "kernelspec": {
   "display_name": "Python 3",
   "language": "python",
   "name": "python3"
  },
  "language_info": {
   "codemirror_mode": {
    "name": "ipython",
    "version": 3
   },
   "file_extension": ".py",
   "mimetype": "text/x-python",
   "name": "python",
   "nbconvert_exporter": "python",
   "pygments_lexer": "ipython3",
   "version": "3.8.6"
  }
 },
 "nbformat": 4,
 "nbformat_minor": 4
}
